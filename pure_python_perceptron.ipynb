{
 "cells": [
  {
   "cell_type": "code",
   "execution_count": 85,
   "metadata": {},
   "outputs": [],
   "source": [
    "import numpy as np\n",
    "from matplotlib import pyplot as plt"
   ]
  },
  {
   "cell_type": "code",
   "execution_count": 86,
   "metadata": {},
   "outputs": [],
   "source": [
    "def draw(x1, x2):\n",
    "    line = plt.plot(x1, x2) # draw a line from x1 to x2"
   ]
  },
  {
   "cell_type": "code",
   "execution_count": 87,
   "metadata": {},
   "outputs": [],
   "source": [
    "def error_function(score):\n",
    "    '''\n",
    "        Based on the score to return the probability of output.\n",
    "        And model use that probability to determine whether or not data is an error.\n",
    "    '''\n",
    "    sigmoid = 1/(1 + np.exp(-score)) # sigmoid formula\n",
    "    return sigmoid"
   ]
  },
  {
   "cell_type": "code",
   "execution_count": 88,
   "metadata": {},
   "outputs": [],
   "source": [
    "def calculate_error(line_parameters, all_points, y):\n",
    "    '''\n",
    "        This function helps machine to choose which model is better\n",
    "    '''\n",
    "    n  = all_points.shape[0]\n",
    "    p = error_function(all_points * line_parameters) # probability\n",
    "    cross_entropy = -(1/n)*(np.log(p).T + np.log(1-p).T * (1-y)) # cross entropy formula\n",
    "    return cross_entropy"
   ]
  },
  {
   "cell_type": "code",
   "execution_count": 89,
   "metadata": {},
   "outputs": [],
   "source": [
    "def gradient_descent(line_parameters, all_points, y, lr):\n",
    "    '''\n",
    "        GD helps model update the Weights after every iterations to minimize the error and obtain a better performace. \n",
    "    '''\n",
    "    n = all_points.shape[0]\n",
    "    for _ in range(5000):\n",
    "        p = error_function(all_points * line_parameters)\n",
    "        gradient = all_points.T * (p-y) * (lr/n) \n",
    "            # gradient descent formula = derivative error function\n",
    "            # lr = learning rate, it means how far at every steps the model can take to be better \n",
    "        line_parameters = line_parameters - gradient\n",
    "            # update the Weights and Bias by subtracting it by gradient\n",
    "        w1 = line_parameters.item(0)\n",
    "        w2 = line_parameters.item(1)\n",
    "        b = line_parameters.item(2)\n",
    "        x1 = np.array([all_points[:, 0].min(), all_points[:, 0].max()])\n",
    "        x2 = -b/w2 + (x1 * (-w1/w2)) # linear equation: w1x1 + w2x2 + b = 0\n",
    "    draw(x1, x2)"
   ]
  },
  {
   "cell_type": "code",
   "execution_count": 90,
   "metadata": {},
   "outputs": [],
   "source": [
    "np.random.seed(0)"
   ]
  },
  {
   "cell_type": "code",
   "execution_count": 91,
   "metadata": {},
   "outputs": [],
   "source": [
    "# preparing datasets\n",
    "n_pts = 100\n",
    "bias = np.ones(n_pts)\n",
    "\n",
    "region_0 = np.array([np.random.normal(13, 2, n_pts),\n",
    "               np.random.normal(12, 2, n_pts), bias]).T\n",
    "region_1 = np.array([np.random.normal(8, 2, n_pts),\n",
    "               np.random.normal(6, 2, n_pts), bias]).T\n",
    "all_points = np.vstack((region_0, region_1))\n",
    "line_parameters = np.matrix([np.zeros(3)]).T\n",
    "labels = np.array([np.zeros(n_pts), np.ones(n_pts)]).reshape(n_pts * 2, 1) \n",
    "    # reshape (2, 500) into (1000, 1), it means 1000 labels appropriate with datasets  "
   ]
  },
  {
   "cell_type": "code",
   "execution_count": 92,
   "metadata": {},
   "outputs": [
    {
     "data": {
      "image/png": "[encoded data removed]",
      "text/plain": [
       "<Figure size 288x288 with 1 Axes>"
      ]
     },
     "metadata": {
      "needs_background": "light"
     },
     "output_type": "display_data"
    }
   ],
   "source": [
    "_, ax = plt.subplots(figsize = (4, 4))\n",
    "ax.scatter(region_0[:, 0], region_0[:, 1], color = 'b')\n",
    "ax.scatter(region_1[:, 0], region_1[:, 1], color = 'y')\n",
    "calculate_error(line_parameters, all_points, labels)\n",
    "gradient_descent(line_parameters, all_points, labels, 0.1)\n",
    "plt.show();"
   ]
  }
 ],
 "metadata": {
  "kernelspec": {
   "display_name": "Python 3",
   "language": "python",
   "name": "python3"
  },
  "language_info": {
   "codemirror_mode": {
    "name": "ipython",
    "version": 3
   },
   "file_extension": ".py",
   "mimetype": "text/x-python",
   "name": "python",
   "nbconvert_exporter": "python",
   "pygments_lexer": "ipython3",
   "version": "3.7.3"
  }
 },
 "nbformat": 4,
 "nbformat_minor": 2
}
