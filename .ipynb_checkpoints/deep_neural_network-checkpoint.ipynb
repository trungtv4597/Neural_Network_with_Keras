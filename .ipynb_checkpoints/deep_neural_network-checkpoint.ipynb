{
 "cells": [
  {
   "cell_type": "code",
   "execution_count": 73,
   "metadata": {},
   "outputs": [],
   "source": [
    "import numpy as np\n",
    "from matplotlib import pyplot as plt\n",
    "from sklearn import datasets\n",
    "import keras\n",
    "from keras.models import Sequential\n",
    "from keras.layers import Dense\n",
    "from keras.optimizers import Adam\n",
    "from keras.models import load_model"
   ]
  },
  {
   "cell_type": "code",
   "execution_count": 74,
   "metadata": {},
   "outputs": [],
   "source": [
    "n_pts = 500\n",
    "samples, labels = datasets.make_circles(n_samples= n_pts, random_state= 123, noise= 0.1, factor= 0.2 )\n",
    "#print('samples:', samples)\n",
    "#print('labels:', labels)"
   ]
  },
  {
   "cell_type": "code",
   "execution_count": 78,
   "metadata": {},
   "outputs": [
    {
     "data": {
      "image/png": "[encoded data removed]",
      "text/plain": [
       "<Figure size 432x288 with 1 Axes>"
      ]
     },
     "metadata": {
      "needs_background": "light"
     },
     "output_type": "display_data"
    }
   ],
   "source": [
    "plt.scatter(samples[labels==0, 0], samples[labels==0, 1])\n",
    "plt.scatter(samples[labels==1, 0], samples[labels==1, 1]);"
   ]
  },
  {
   "cell_type": "code",
   "execution_count": 80,
   "metadata": {},
   "outputs": [
    {
     "name": "stdout",
     "output_type": "stream",
     "text": [
      "Epoch 1/100\n",
      "500/500 [==============================] - 2s 4ms/step - loss: 0.6989 - acc: 0.5960\n",
      "Epoch 2/100\n",
      "500/500 [==============================] - 0s 128us/step - loss: 0.6965 - acc: 0.6120\n",
      "Epoch 3/100\n",
      "500/500 [==============================] - 0s 150us/step - loss: 0.6944 - acc: 0.5220\n",
      "Epoch 4/100\n",
      "500/500 [==============================] - 0s 142us/step - loss: 0.6941 - acc: 0.4560\n",
      "Epoch 5/100\n",
      "500/500 [==============================] - 0s 154us/step - loss: 0.6941 - acc: 0.5940\n",
      "Epoch 6/100\n",
      "500/500 [==============================] - 0s 140us/step - loss: 0.6939 - acc: 0.4500\n",
      "Epoch 7/100\n",
      "500/500 [==============================] - 0s 166us/step - loss: 0.6932 - acc: 0.5620\n",
      "Epoch 8/100\n",
      "500/500 [==============================] - 0s 162us/step - loss: 0.6933 - acc: 0.5920\n",
      "Epoch 9/100\n",
      "500/500 [==============================] - 0s 136us/step - loss: 0.6926 - acc: 0.4820\n",
      "Epoch 10/100\n",
      "500/500 [==============================] - ETA: 0s - loss: 0.6936 - acc: 0.615 - 0s 172us/step - loss: 0.6925 - acc: 0.5940\n",
      "Epoch 11/100\n",
      "500/500 [==============================] - 0s 150us/step - loss: 0.6917 - acc: 0.4620\n",
      "Epoch 12/100\n",
      "500/500 [==============================] - 0s 152us/step - loss: 0.6907 - acc: 0.6080\n",
      "Epoch 13/100\n",
      "500/500 [==============================] - 0s 140us/step - loss: 0.6890 - acc: 0.6040\n",
      "Epoch 14/100\n",
      "500/500 [==============================] - 0s 176us/step - loss: 0.6898 - acc: 0.5300\n",
      "Epoch 15/100\n",
      "500/500 [==============================] - 0s 140us/step - loss: 0.6868 - acc: 0.5700\n",
      "Epoch 16/100\n",
      "500/500 [==============================] - 0s 174us/step - loss: 0.6837 - acc: 0.6940\n",
      "Epoch 17/100\n",
      "500/500 [==============================] - ETA: 0s - loss: 0.6802 - acc: 0.747 - 0s 164us/step - loss: 0.6798 - acc: 0.7480\n",
      "Epoch 18/100\n",
      "500/500 [==============================] - 0s 144us/step - loss: 0.6779 - acc: 0.5480\n",
      "Epoch 19/100\n",
      "500/500 [==============================] - 0s 158us/step - loss: 0.6709 - acc: 0.6940\n",
      "Epoch 20/100\n",
      "500/500 [==============================] - 0s 144us/step - loss: 0.6649 - acc: 0.7060\n",
      "Epoch 21/100\n",
      "500/500 [==============================] - 0s 202us/step - loss: 0.6560 - acc: 0.8220\n",
      "Epoch 22/100\n",
      "500/500 [==============================] - 0s 178us/step - loss: 0.6461 - acc: 0.8080\n",
      "Epoch 23/100\n",
      "500/500 [==============================] - 0s 210us/step - loss: 0.6391 - acc: 0.8260\n",
      "Epoch 24/100\n",
      "500/500 [==============================] - 0s 138us/step - loss: 0.6285 - acc: 0.7960\n",
      "Epoch 25/100\n",
      "500/500 [==============================] - 0s 164us/step - loss: 0.6187 - acc: 0.8420\n",
      "Epoch 26/100\n",
      "500/500 [==============================] - 0s 142us/step - loss: 0.6077 - acc: 0.8380\n",
      "Epoch 27/100\n",
      "500/500 [==============================] - 0s 166us/step - loss: 0.5992 - acc: 0.8240\n",
      "Epoch 28/100\n",
      "500/500 [==============================] - 0s 144us/step - loss: 0.5863 - acc: 0.8560\n",
      "Epoch 29/100\n",
      "500/500 [==============================] - 0s 166us/step - loss: 0.5765 - acc: 0.8220\n",
      "Epoch 30/100\n",
      "500/500 [==============================] - 0s 150us/step - loss: 0.5658 - acc: 0.8640\n",
      "Epoch 31/100\n",
      "500/500 [==============================] - 0s 166us/step - loss: 0.5527 - acc: 0.8580\n",
      "Epoch 32/100\n",
      "500/500 [==============================] - 0s 164us/step - loss: 0.5410 - acc: 0.8600\n",
      "Epoch 33/100\n",
      "500/500 [==============================] - 0s 160us/step - loss: 0.5298 - acc: 0.8640\n",
      "Epoch 34/100\n",
      "500/500 [==============================] - 0s 176us/step - loss: 0.5146 - acc: 0.8640\n",
      "Epoch 35/100\n",
      "500/500 [==============================] - 0s 204us/step - loss: 0.5018 - acc: 0.8660\n",
      "Epoch 36/100\n",
      "500/500 [==============================] - 0s 148us/step - loss: 0.4885 - acc: 0.8640\n",
      "Epoch 37/100\n",
      "500/500 [==============================] - 0s 172us/step - loss: 0.4755 - acc: 0.8720\n",
      "Epoch 38/100\n",
      "500/500 [==============================] - 0s 166us/step - loss: 0.4635 - acc: 0.8660\n",
      "Epoch 39/100\n",
      "500/500 [==============================] - 0s 150us/step - loss: 0.4511 - acc: 0.8740\n",
      "Epoch 40/100\n",
      "500/500 [==============================] - 0s 164us/step - loss: 0.4400 - acc: 0.8760\n",
      "Epoch 41/100\n",
      "500/500 [==============================] - 0s 166us/step - loss: 0.4291 - acc: 0.8720\n",
      "Epoch 42/100\n",
      "500/500 [==============================] - 0s 138us/step - loss: 0.4181 - acc: 0.8780\n",
      "Epoch 43/100\n",
      "500/500 [==============================] - 0s 174us/step - loss: 0.4081 - acc: 0.8800\n",
      "Epoch 44/100\n",
      "500/500 [==============================] - 0s 158us/step - loss: 0.3968 - acc: 0.8860\n",
      "Epoch 45/100\n",
      "500/500 [==============================] - 0s 172us/step - loss: 0.3868 - acc: 0.8860\n",
      "Epoch 46/100\n",
      "500/500 [==============================] - 0s 200us/step - loss: 0.3754 - acc: 0.8920\n",
      "Epoch 47/100\n",
      "500/500 [==============================] - 0s 192us/step - loss: 0.3648 - acc: 0.8960\n",
      "Epoch 48/100\n",
      "500/500 [==============================] - 0s 162us/step - loss: 0.3529 - acc: 0.9000\n",
      "Epoch 49/100\n",
      "500/500 [==============================] - 0s 168us/step - loss: 0.3420 - acc: 0.9140\n",
      "Epoch 50/100\n",
      "500/500 [==============================] - 0s 164us/step - loss: 0.3307 - acc: 0.9180\n",
      "Epoch 51/100\n",
      "500/500 [==============================] - 0s 150us/step - loss: 0.3190 - acc: 0.9300\n",
      "Epoch 52/100\n",
      "500/500 [==============================] - 0s 174us/step - loss: 0.3077 - acc: 0.9440\n",
      "Epoch 53/100\n",
      "500/500 [==============================] - 0s 154us/step - loss: 0.2955 - acc: 0.9460\n",
      "Epoch 54/100\n",
      "500/500 [==============================] - 0s 158us/step - loss: 0.2845 - acc: 0.9560\n",
      "Epoch 55/100\n",
      "500/500 [==============================] - 0s 170us/step - loss: 0.2733 - acc: 0.9660\n",
      "Epoch 56/100\n",
      "500/500 [==============================] - 0s 162us/step - loss: 0.2630 - acc: 0.9700\n",
      "Epoch 57/100\n",
      "500/500 [==============================] - 0s 164us/step - loss: 0.2531 - acc: 0.9720\n",
      "Epoch 58/100\n",
      "500/500 [==============================] - 0s 154us/step - loss: 0.2424 - acc: 0.9840\n",
      "Epoch 59/100\n",
      "500/500 [==============================] - 0s 182us/step - loss: 0.2330 - acc: 0.9900\n",
      "Epoch 60/100\n",
      "500/500 [==============================] - 0s 148us/step - loss: 0.2236 - acc: 0.9920\n",
      "Epoch 61/100\n",
      "500/500 [==============================] - 0s 152us/step - loss: 0.2149 - acc: 0.9940\n",
      "Epoch 62/100\n",
      "500/500 [==============================] - 0s 148us/step - loss: 0.2067 - acc: 0.9940\n",
      "Epoch 63/100\n",
      "500/500 [==============================] - 0s 160us/step - loss: 0.1987 - acc: 0.9960\n",
      "Epoch 64/100\n",
      "500/500 [==============================] - 0s 162us/step - loss: 0.1917 - acc: 0.9980\n",
      "Epoch 65/100\n",
      "500/500 [==============================] - 0s 148us/step - loss: 0.1844 - acc: 0.9980\n",
      "Epoch 66/100\n",
      "500/500 [==============================] - ETA: 0s - loss: 0.1777 - acc: 1.000 - 0s 148us/step - loss: 0.1777 - acc: 0.9980\n",
      "Epoch 67/100\n",
      "500/500 [==============================] - 0s 164us/step - loss: 0.1714 - acc: 0.9980\n",
      "Epoch 68/100\n",
      "500/500 [==============================] - 0s 164us/step - loss: 0.1655 - acc: 0.9980\n",
      "Epoch 69/100\n",
      "500/500 [==============================] - 0s 176us/step - loss: 0.1596 - acc: 0.9980\n",
      "Epoch 70/100\n",
      "500/500 [==============================] - 0s 156us/step - loss: 0.1541 - acc: 0.9980\n",
      "Epoch 71/100\n",
      "500/500 [==============================] - 0s 176us/step - loss: 0.1491 - acc: 0.9980\n",
      "Epoch 72/100\n",
      "500/500 [==============================] - 0s 154us/step - loss: 0.1441 - acc: 0.9980\n",
      "Epoch 73/100\n",
      "500/500 [==============================] - 0s 188us/step - loss: 0.1397 - acc: 0.9980\n",
      "Epoch 74/100\n",
      "500/500 [==============================] - 0s 166us/step - loss: 0.1352 - acc: 0.9980\n",
      "Epoch 75/100\n",
      "500/500 [==============================] - 0s 144us/step - loss: 0.1312 - acc: 0.9980\n",
      "Epoch 76/100\n",
      "500/500 [==============================] - 0s 142us/step - loss: 0.1269 - acc: 0.9980\n",
      "Epoch 77/100\n",
      "500/500 [==============================] - 0s 140us/step - loss: 0.1234 - acc: 0.9980\n",
      "Epoch 78/100\n",
      "500/500 [==============================] - 0s 164us/step - loss: 0.1196 - acc: 0.9980\n",
      "Epoch 79/100\n",
      "500/500 [==============================] - 0s 152us/step - loss: 0.1163 - acc: 0.9980\n",
      "Epoch 80/100\n",
      "500/500 [==============================] - 0s 156us/step - loss: 0.1128 - acc: 0.9980\n",
      "Epoch 81/100\n",
      "500/500 [==============================] - ETA: 0s - loss: 0.1095 - acc: 0.996 - 0s 160us/step - loss: 0.1098 - acc: 0.9980\n",
      "Epoch 82/100\n"
     ]
    },
    {
     "name": "stdout",
     "output_type": "stream",
     "text": [
      "500/500 [==============================] - 0s 180us/step - loss: 0.1070 - acc: 0.9980\n",
      "Epoch 83/100\n",
      "500/500 [==============================] - 0s 184us/step - loss: 0.1039 - acc: 0.9980\n",
      "Epoch 84/100\n",
      "500/500 [==============================] - 0s 168us/step - loss: 0.1012 - acc: 0.9980\n",
      "Epoch 85/100\n",
      "500/500 [==============================] - 0s 146us/step - loss: 0.0990 - acc: 0.9980\n",
      "Epoch 86/100\n",
      "500/500 [==============================] - 0s 194us/step - loss: 0.0963 - acc: 0.9980\n",
      "Epoch 87/100\n",
      "500/500 [==============================] - 0s 200us/step - loss: 0.0937 - acc: 0.9980\n",
      "Epoch 88/100\n",
      "500/500 [==============================] - 0s 162us/step - loss: 0.0915 - acc: 0.9980\n",
      "Epoch 89/100\n",
      "500/500 [==============================] - 0s 138us/step - loss: 0.0892 - acc: 0.9980\n",
      "Epoch 90/100\n",
      "500/500 [==============================] - 0s 178us/step - loss: 0.0871 - acc: 0.9980\n",
      "Epoch 91/100\n",
      "500/500 [==============================] - 0s 210us/step - loss: 0.0851 - acc: 0.9980\n",
      "Epoch 92/100\n",
      "500/500 [==============================] - 0s 146us/step - loss: 0.0830 - acc: 0.9980\n",
      "Epoch 93/100\n",
      "500/500 [==============================] - 0s 154us/step - loss: 0.0814 - acc: 0.9980\n",
      "Epoch 94/100\n",
      "500/500 [==============================] - 0s 174us/step - loss: 0.0793 - acc: 0.9980\n",
      "Epoch 95/100\n",
      "500/500 [==============================] - 0s 246us/step - loss: 0.0776 - acc: 0.9980\n",
      "Epoch 96/100\n",
      "500/500 [==============================] - 0s 170us/step - loss: 0.0758 - acc: 0.9980\n",
      "Epoch 97/100\n",
      "500/500 [==============================] - 0s 138us/step - loss: 0.0742 - acc: 0.9980\n",
      "Epoch 98/100\n",
      "500/500 [==============================] - 0s 180us/step - loss: 0.0726 - acc: 0.9980\n",
      "Epoch 99/100\n",
      "500/500 [==============================] - 0s 202us/step - loss: 0.0710 - acc: 0.9980\n",
      "Epoch 100/100\n",
      "500/500 [==============================] - 0s 136us/step - loss: 0.0695 - acc: 0.9980\n"
     ]
    }
   ],
   "source": [
    "model = Sequential()\n",
    "model.add(Dense(4, input_shape= (2,), activation= 'sigmoid')) #hidden layer\n",
    "model.add(Dense(1, activation= 'sigmoid')) #output layer\n",
    "optimizer = Adam(lr= 0.01)\n",
    "model.compile(optimizer, 'binary_crossentropy', metrics= ['accuracy'])\n",
    "h = model.fit(x= samples, y= labels, verbose= 1, batch_size= 20, epochs = 100, shuffle= 'True')"
   ]
  },
  {
   "cell_type": "code",
   "execution_count": 81,
   "metadata": {},
   "outputs": [
    {
     "data": {
      "text/plain": [
       "Text(0.5, 1.0, 'accuracy')"
      ]
     },
     "execution_count": 81,
     "metadata": {},
     "output_type": "execute_result"
    },
    {
     "data": {
      "image/png": "[encoded data removed]",
      "text/plain": [
       "<Figure size 432x288 with 1 Axes>"
      ]
     },
     "metadata": {
      "needs_background": "light"
     },
     "output_type": "display_data"
    }
   ],
   "source": [
    "plt.plot(h.history['acc'])\n",
    "plt.plot(h.history['loss'])\n",
    "plt.xlabel('epoch')\n",
    "plt.legend(['accurary'])\n",
    "plt.title('accuracy')"
   ]
  },
  {
   "cell_type": "code",
   "execution_count": 82,
   "metadata": {},
   "outputs": [],
   "source": [
    "# save your trained model\n",
    "model.save('classifier_circular_datasets.h5')"
   ]
  },
  {
   "cell_type": "code",
   "execution_count": 83,
   "metadata": {},
   "outputs": [],
   "source": [
    "def classifier(X, y, model):\n",
    "    '''classify datasets'''\n",
    "    x_span = np.linspace(min(X[:, 0])-1, max(X[:, 0])+1, 50)\n",
    "    y_span = np.linspace(min(X[:, 1])-1, max(X[:, 1])+1, 50)\n",
    "    xx, yy = np.meshgrid(x_span, y_span)\n",
    "    xx_, yy_ = xx.ravel(), yy.ravel()\n",
    "    grid = np.c_[xx_, yy_]\n",
    "    prediction = model.predict(grid)\n",
    "    z = prediction.reshape(xx.shape)\n",
    "    plt.contourf(xx, yy, z);"
   ]
  },
  {
   "cell_type": "code",
   "execution_count": 84,
   "metadata": {},
   "outputs": [
    {
     "data": {
      "image/png": "[encoded data removed]",
      "text/plain": [
       "<Figure size 432x288 with 1 Axes>"
      ]
     },
     "metadata": {
      "needs_background": "light"
     },
     "output_type": "display_data"
    }
   ],
   "source": [
    "model = load_model('classifier_circular_datasets.h5') #load our trained model\n",
    "classifier(X, y, model)\n",
    "plt.scatter(samples[labels==0, 0], samples[labels==0, 1])\n",
    "plt.scatter(samples[labels==1, 0], samples[labels==1, 1]);"
   ]
  },
  {
   "cell_type": "code",
   "execution_count": 71,
   "metadata": {},
   "outputs": [],
   "source": [
    "def new_data_prediction(x, y):\n",
    "    '''predict a new unlabelled data'''\n",
    "    point = np.array([[x, y]]) # prepare data for prediction\n",
    "    \n",
    "    prediction_probability = model.predict(point) # predict how many probability of new data is\n",
    "    prediction_class = model.predict_classes(point) # predict which class of new data is\n",
    "    print('probability: ', prediction_probability)\n",
    "    print('class: ', prediction_class)\n",
    "    \n",
    "    plt.plot([x], [y], marker= 'o', markersize= 20, color= 'green')"
   ]
  },
  {
   "cell_type": "code",
   "execution_count": 85,
   "metadata": {},
   "outputs": [
    {
     "name": "stdout",
     "output_type": "stream",
     "text": [
      "probability:  [[0.963319]]\n",
      "class:  [[1]]\n"
     ]
    },
    {
     "data": {
      "image/png": "[encoded data removed]",
      "text/plain": [
       "<Figure size 432x288 with 1 Axes>"
      ]
     },
     "metadata": {
      "needs_background": "light"
     },
     "output_type": "display_data"
    }
   ],
   "source": [
    "classifier(X, y, model)\n",
    "plt.scatter(samples[labels==0, 0], samples[labels==0, 1])\n",
    "plt.scatter(samples[labels==1, 0], samples[labels==1, 1]);\n",
    "\n",
    "#coordinate of a new data point\n",
    "x = 0\n",
    "y = 0\n",
    "new_data_prediction(x, y)"
   ]
  }
 ],
 "metadata": {
  "kernelspec": {
   "display_name": "Python 3",
   "language": "python",
   "name": "python3"
  },
  "language_info": {
   "codemirror_mode": {
    "name": "ipython",
    "version": 3
   },
   "file_extension": ".py",
   "mimetype": "text/x-python",
   "name": "python",
   "nbconvert_exporter": "python",
   "pygments_lexer": "ipython3",
   "version": "3.7.3"
  }
 },
 "nbformat": 4,
 "nbformat_minor": 2
}
